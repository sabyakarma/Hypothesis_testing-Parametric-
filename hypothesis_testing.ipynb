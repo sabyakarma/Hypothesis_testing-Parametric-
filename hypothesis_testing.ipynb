{
 "cells": [
  {
   "cell_type": "markdown",
   "metadata": {},
   "source": [
    "##### There are two type of test\n",
    "- Prametric testing (When data is normally distributed)\n",
    "- Non Parametric testing (When data is not normally distributed)\n"
   ]
  },
  {
   "cell_type": "markdown",
   "metadata": {},
   "source": [
    "###### Prametric testing"
   ]
  },
  {
   "cell_type": "markdown",
   "metadata": {},
   "source": [
    "- ###### Hypothesis Testing\n",
    " In Hypothesis testing will first define Null hypothesis about a smaple of the entire dataset, that assumes nothing interesting is going on. The Purpose of hypothesis testing is to prove that Null Hypothesis is true for the given sample data. If Null Hypothese fails for the sample then we will have an alternate hypothesis for the given smaple. \n",
    " \n",
    "Once Null and alternate Hypothesis is decided we will choose significance level. that is the probablity threshold that will decide when should we reject Hull Hypothesis. This value is called P-Value  "
   ]
  },
  {
   "cell_type": "markdown",
   "metadata": {},
   "source": [
    "###### T-test\n",
    "The T-test is a statistical test used to determine whether a numeric data sample of differs significantly from the population or whether two samples differ from one another.\n"
   ]
  },
  {
   "cell_type": "markdown",
   "metadata": {},
   "source": [
    "###### 1 Sample T-test"
   ]
  },
  {
   "cell_type": "code",
   "execution_count": 189,
   "metadata": {
    "collapsed": true
   },
   "outputs": [],
   "source": [
    "import numpy as np\n",
    "import scipy.stats\n",
    "import pandas as pd\n",
    "import matplotlib.pyplot as plt\n",
    "import seaborn as sns\n",
    "import scipy.stats as stats\n",
    "from statistics import mean"
   ]
  },
  {
   "cell_type": "code",
   "execution_count": 190,
   "metadata": {
    "collapsed": true
   },
   "outputs": [],
   "source": [
    "from matplotlib import rcParams\n",
    "\n",
    "# figure size in inches\n",
    "rcParams['figure.figsize'] = 7,5"
   ]
  },
  {
   "cell_type": "code",
   "execution_count": 191,
   "metadata": {
    "collapsed": true
   },
   "outputs": [],
   "source": [
    "# generate list of Random age or Integer Values  for population\n",
    "\n",
    "def age_generator(start, end, size):\n",
    "    np.random.seed(7)\n",
    "    age_list = []\n",
    "    for i in range(0, size):\n",
    "        age_list.append(np.random.randint(start,end))\n",
    "    return age_list\n",
    "\n",
    "        "
   ]
  },
  {
   "cell_type": "code",
   "execution_count": 192,
   "metadata": {
    "collapsed": true
   },
   "outputs": [],
   "source": [
    "india_marriage_age_male = age_generator(21,45,100)"
   ]
  },
  {
   "cell_type": "code",
   "execution_count": 193,
   "metadata": {
    "collapsed": true
   },
   "outputs": [],
   "source": [
    "india_marriage_age_female = age_generator(18,45,100)"
   ]
  },
  {
   "cell_type": "markdown",
   "metadata": {},
   "source": [
    "### Normality Testing"
   ]
  },
  {
   "cell_type": "code",
   "execution_count": 194,
   "metadata": {},
   "outputs": [
    {
     "name": "stdout",
     "output_type": "stream",
     "text": [
      "Kurtosis of female age:-1.3124844784351744 Kurtosis for Male Age: -1.2256352457450295\n",
      "Kurtosis Range is -1.96 < K < +1.96\n"
     ]
    }
   ],
   "source": [
    "print('Kurtosis of female age:{0} Kurtosis for Male Age: {1}'.\n",
    "      format(stats.kurtosis(india_marriage_age_female),stats.kurtosis(india_marriage_age_male)))\n",
    "print('Kurtosis Range is -1.96 < K < +1.96')"
   ]
  },
  {
   "cell_type": "code",
   "execution_count": 195,
   "metadata": {
    "scrolled": true
   },
   "outputs": [
    {
     "name": "stdout",
     "output_type": "stream",
     "text": [
      "Skewness of female age:0.09573616002388838 Skewness for Male Age: 0.13415372450833576\n",
      "Skewness Range is -1.96 < S < +1.96\n"
     ]
    }
   ],
   "source": [
    "print('Skewness of female age:{0} Skewness for Male Age: {1}'.\n",
    "      format(stats.skew(india_marriage_age_female),stats.skew(india_marriage_age_male)))\n",
    "print('Skewness Range is -1.96 < S < +1.96')"
   ]
  },
  {
   "cell_type": "code",
   "execution_count": 196,
   "metadata": {
    "scrolled": false
   },
   "outputs": [
    {
     "name": "stderr",
     "output_type": "stream",
     "text": [
      "C:\\Users\\sabya\\Anaconda3\\lib\\site-packages\\matplotlib\\figure.py:1999: UserWarning: This figure includes Axes that are not compatible with tight_layout, so results might be incorrect.\n",
      "  warnings.warn(\"This figure includes Axes that are not compatible \"\n"
     ]
    },
    {
     "data": {
      "image/png": "[encoded data removed]",
      "text/plain": [
       "<matplotlib.figure.Figure at 0x1e58c142080>"
      ]
     },
     "metadata": {},
     "output_type": "display_data"
    },
    {
     "data": {
      "text/plain": [
       "<matplotlib.figure.Figure at 0x1e58c142d30>"
      ]
     },
     "metadata": {},
     "output_type": "display_data"
    }
   ],
   "source": [
    "sns.distplot(india_marriage_age_female, hist=False,color='red' )\n",
    "sns.distplot(india_marriage_age_male, hist=False,color='Blue' )\n",
    "plt.figure(figsize=(20,10))\n",
    "plt.show()"
   ]
  },
  {
   "cell_type": "markdown",
   "metadata": {},
   "source": [
    "We have created sample age of Marriage in india for male and female. we will perform hypothesis Testing in created sample data and try to come up on a solution. "
   ]
  },
  {
   "cell_type": "markdown",
   "metadata": {},
   "source": [
    "## One Sample t-test"
   ]
  },
  {
   "cell_type": "markdown",
   "metadata": {},
   "source": [
    "- ### Ho = Null Hypothesis -> Marriage age of male in India is 28\n",
    "- ### Ha = Alternate Hypothesis - > Marriage age of male in India is NOT 28 "
   ]
  },
  {
   "cell_type": "markdown",
   "metadata": {},
   "source": [
    "#### P value is 5%, if P value < 5%, we will reject Null hypothesis and Accept Alternate Hypothesis"
   ]
  },
  {
   "cell_type": "code",
   "execution_count": 197,
   "metadata": {},
   "outputs": [
    {
     "data": {
      "text/plain": [
       "Ttest_1sampResult(statistic=5.863781996571321, pvalue=5.985490781794787e-08)"
      ]
     },
     "execution_count": 197,
     "metadata": {},
     "output_type": "execute_result"
    }
   ],
   "source": [
    "stats.ttest_1samp(india_marriage_age_male, 28)"
   ]
  },
  {
   "cell_type": "markdown",
   "metadata": {},
   "source": [
    "### P value is less than 0.05, so we can reject Null hypothesis and Accept Alternate Hypothesis.\n",
    "### As t value is +ve we can say that, Average marriage Age is more than 28, close to 33"
   ]
  },
  {
   "cell_type": "code",
   "execution_count": 198,
   "metadata": {},
   "outputs": [
    {
     "data": {
      "text/plain": [
       "Ttest_1sampResult(statistic=0.3707777843265278, pvalue=0.7115952389877449)"
      ]
     },
     "execution_count": 198,
     "metadata": {},
     "output_type": "execute_result"
    }
   ],
   "source": [
    "stats.ttest_1samp(india_marriage_age_male,32)"
   ]
  },
  {
   "cell_type": "markdown",
   "metadata": {},
   "source": [
    "In above test we can see that P value is 71.1%, which means we can accept 32 as the Ave marriage age of male in India. "
   ]
  },
  {
   "cell_type": "markdown",
   "metadata": {},
   "source": [
    "1 Sample T-test, is used in when we have one sample data and mean of the Population. "
   ]
  },
  {
   "cell_type": "markdown",
   "metadata": {},
   "source": [
    "### Two Sample indipendent t-test "
   ]
  },
  {
   "cell_type": "markdown",
   "metadata": {},
   "source": [
    "#### In two sample T-test we check two indipendent sample by defining Null Hypothesis and Alernate Hypothesis"
   ]
  },
  {
   "cell_type": "markdown",
   "metadata": {},
   "source": [
    "##### In this example our Null Hypothesis would be\n",
    "#### Ho - Marriage Age of male and Female in India is same\n",
    "#### Ha - Marriage Age of male and Female in India is NOT Same"
   ]
  },
  {
   "cell_type": "code",
   "execution_count": 199,
   "metadata": {},
   "outputs": [
    {
     "data": {
      "text/plain": [
       "Ttest_indResult(statistic=1.6090451564724044, pvalue=0.10919970690452206)"
      ]
     },
     "execution_count": 199,
     "metadata": {},
     "output_type": "execute_result"
    }
   ],
   "source": [
    "stats.ttest_ind(india_marriage_age_male,india_marriage_age_female)"
   ]
  },
  {
   "cell_type": "markdown",
   "metadata": {},
   "source": [
    "#### Here we can see that P Value = 10.9%, so we can reject Null Hypothesis and Accept Alternate Hypothesis. i.e, marriage age of male and female in India is not same. "
   ]
  },
  {
   "cell_type": "markdown",
   "metadata": {},
   "source": [
    "In two sample Indipendent T-test we have sample from indipendent group."
   ]
  },
  {
   "cell_type": "markdown",
   "metadata": {},
   "source": [
    "### Paired T-test or Relational T-test "
   ]
  },
  {
   "cell_type": "markdown",
   "metadata": {},
   "source": [
    "#### In paired T-test or Relational T-test we have same group doing two different things, \n"
   ]
  },
  {
   "cell_type": "markdown",
   "metadata": {},
   "source": [
    "#### Let's create a responsive test for RED BULL energy drink\n",
    "\n",
    "- ###### In this test the sample will be same and we will test effect of RED BULL before drink and after Drink "
   ]
  },
  {
   "cell_type": "code",
   "execution_count": 200,
   "metadata": {
    "collapsed": true
   },
   "outputs": [],
   "source": [
    "before_redbull = age_generator(20,40,10)\n",
    "after_rebull = age_generator(15,32,10)"
   ]
  },
  {
   "cell_type": "markdown",
   "metadata": {},
   "source": [
    "#### Normality Testing"
   ]
  },
  {
   "cell_type": "code",
   "execution_count": 201,
   "metadata": {},
   "outputs": [
    {
     "name": "stderr",
     "output_type": "stream",
     "text": [
      "C:\\Users\\sabya\\Anaconda3\\lib\\site-packages\\matplotlib\\figure.py:1999: UserWarning: This figure includes Axes that are not compatible with tight_layout, so results might be incorrect.\n",
      "  warnings.warn(\"This figure includes Axes that are not compatible \"\n"
     ]
    },
    {
     "data": {
      "image/png": "[encoded data removed]",
      "text/plain": [
       "<matplotlib.figure.Figure at 0x1e58baf8588>"
      ]
     },
     "metadata": {},
     "output_type": "display_data"
    }
   ],
   "source": [
    "sns.distplot(before_redbull,hist=False,color='blue', label='Before Red Bull')\n",
    "sns.distplot(after_rebull,hist=False,color='red', label= 'After Red Bull')\n",
    "plt.xlabel('Response Time in ms')\n",
    "plt.title('Graph between Before and After RED BULL')\n",
    "plt.show()"
   ]
  },
  {
   "cell_type": "markdown",
   "metadata": {},
   "source": [
    "###### Observation: Graph looks Normal"
   ]
  },
  {
   "cell_type": "code",
   "execution_count": 202,
   "metadata": {},
   "outputs": [
    {
     "name": "stdout",
     "output_type": "stream",
     "text": [
      "valid Range for Skewness and Kutosis  is \n",
      "-1.96 < S < +1.96 \n",
      "-1.96 < K < +1.96\n",
      "Skewness for Before 0.20136135247971076 and After 0.17196423223441704 RED BULL\n",
      "Kurtosis for Before -1.0383360135562614 and After -1.1966031084762059 RED BULL\n"
     ]
    }
   ],
   "source": [
    "print('valid Range for Skewness and Kutosis  is \\n{0} < S < +{1} \\n{0} < K < +{1}'.format(-1.96,1.96))\n",
    "print('Skewness for Before {0} and After {1} RED BULL'.format(stats.skew(before_redbull),stats.skew(after_rebull)))\n",
    "print('Kurtosis for Before {0} and After {1} RED BULL'.format(stats.kurtosis(before_redbull),stats.kurtosis(after_rebull)))"
   ]
  },
  {
   "cell_type": "markdown",
   "metadata": {},
   "source": [
    "- #### Ho = Response before RED BULL and after RED BULL is same\n",
    "- #### Ha = Response before RED BULL and after RED BULL is NOT same"
   ]
  },
  {
   "cell_type": "code",
   "execution_count": 203,
   "metadata": {},
   "outputs": [
    {
     "data": {
      "text/plain": [
       "Ttest_relResult(statistic=3.5690124375080132, pvalue=0.006033558904697545)"
      ]
     },
     "execution_count": 203,
     "metadata": {},
     "output_type": "execute_result"
    }
   ],
   "source": [
    "stats.ttest_rel(before_redbull,after_rebull)"
   ]
  },
  {
   "cell_type": "markdown",
   "metadata": {},
   "source": [
    "#### P < 0.05 we can see that P value is less than 5%, so we can reject the Null Hypothesis and Accept Alternate Hypothesis, which says \n",
    "#### \"Response before RED BULL and after RED BULL is NOT same\""
   ]
  },
  {
   "cell_type": "code",
   "execution_count": 204,
   "metadata": {},
   "outputs": [
    {
     "data": {
      "text/plain": [
       "[35, 24, 23, 39, 27, 34, 28, 34, 30, 28]"
      ]
     },
     "execution_count": 204,
     "metadata": {},
     "output_type": "execute_result"
    }
   ],
   "source": [
    "before_redbull"
   ]
  },
  {
   "cell_type": "code",
   "execution_count": 205,
   "metadata": {},
   "outputs": [
    {
     "data": {
      "text/plain": [
       "[30, 19, 18, 22, 29, 23, 29, 25, 23, 22]"
      ]
     },
     "execution_count": 205,
     "metadata": {},
     "output_type": "execute_result"
    }
   ],
   "source": [
    "after_rebull"
   ]
  },
  {
   "cell_type": "markdown",
   "metadata": {},
   "source": [
    "### ANOVA(Analysis of Variance) Test "
   ]
  },
  {
   "cell_type": "markdown",
   "metadata": {},
   "source": [
    "- #### In ANOVA test we calculate F score, that is ration between variance between the Group and Variance within the group.\n",
    "- #### F = Var(Between the Group)/Var(within the Group)"
   ]
  },
  {
   "cell_type": "markdown",
   "metadata": {},
   "source": [
    "if F value is higher than F critical then we will reject Null Hypothesis and accept Alternate hypothesis vice versa."
   ]
  },
  {
   "cell_type": "markdown",
   "metadata": {},
   "source": [
    "##### In this test we will test 3 out come from the same group. \n",
    "- #### For a given Group we have provided 3 different Drinks each morning and noted the response time. Now we want to check weither the Dirinks has different effect in thir response time or  are they same."
   ]
  },
  {
   "cell_type": "code",
   "execution_count": 206,
   "metadata": {
    "collapsed": true
   },
   "outputs": [],
   "source": [
    "coffee_resp_time = age_generator(20,40,8)\n",
    "lemonWater_resp_time = age_generator(25,42,8)\n",
    "redbull_response_time = age_generator(12,25,8)"
   ]
  },
  {
   "cell_type": "markdown",
   "metadata": {},
   "source": [
    "### Normality testing"
   ]
  },
  {
   "cell_type": "code",
   "execution_count": 207,
   "metadata": {},
   "outputs": [
    {
     "name": "stderr",
     "output_type": "stream",
     "text": [
      "C:\\Users\\sabya\\Anaconda3\\lib\\site-packages\\matplotlib\\figure.py:1999: UserWarning: This figure includes Axes that are not compatible with tight_layout, so results might be incorrect.\n",
      "  warnings.warn(\"This figure includes Axes that are not compatible \"\n"
     ]
    },
    {
     "data": {
      "image/png": "[encoded data removed]",
      "text/plain": [
       "<matplotlib.figure.Figure at 0x1e58c14cd30>"
      ]
     },
     "metadata": {},
     "output_type": "display_data"
    }
   ],
   "source": [
    "sns.distplot(coffee_resp_time,hist=False,color='blue', label='Coffee')\n",
    "sns.distplot(lemonWater_resp_time,hist=False,color='green', label= 'Leamon Water')\n",
    "sns.distplot(redbull_response_time,hist=False,color='red', label= 'Red Bull')\n",
    "plt.xlabel('Response Time in ms')\n",
    "plt.title('Graph between Before and After RED BULL')\n",
    "plt.show()"
   ]
  },
  {
   "cell_type": "markdown",
   "metadata": {},
   "source": [
    "#### H0 - Coffee, lemon water and Red Bull have same effect on response time.\n",
    "#### Ha - Coffee, lemon water and Red Bull have NOT same effect on response time."
   ]
  },
  {
   "cell_type": "code",
   "execution_count": 208,
   "metadata": {},
   "outputs": [
    {
     "data": {
      "text/plain": [
       "F_onewayResult(statistic=25.79586776859504, pvalue=2.207939695942674e-06)"
      ]
     },
     "execution_count": 208,
     "metadata": {},
     "output_type": "execute_result"
    }
   ],
   "source": [
    "stats.f_oneway(coffee_resp_time,lemonWater_resp_time,redbull_response_time)"
   ]
  },
  {
   "cell_type": "markdown",
   "metadata": {},
   "source": [
    "##### The P value is 0.00022, which is very low than 5%, so we can reject Null Hypothesis and accept Alternate Hypothesis"
   ]
  },
  {
   "cell_type": "markdown",
   "metadata": {},
   "source": [
    "# Conclusion:\n",
    "1. ### At first we will do Normality testing of the given sample.\n",
    "2. ### One Sample T-test : Check Hypothesis on One sample and gives us the Insight\n",
    "3. ### Two Sample Indipendent T-test: Check the Hypothesis of two indipendent sample.\n",
    "4. ### Paired T-test or Relation T-test: we test On same Group doing 2 different actions.\n",
    "5. ### One-way ANOVA test: we test we test on relation of variance between within the Group and variance within the group. "
   ]
  },
  {
   "cell_type": "code",
   "execution_count": null,
   "metadata": {
    "collapsed": true
   },
   "outputs": [],
   "source": []
  }
 ],
 "metadata": {
  "kernelspec": {
   "display_name": "Python 3",
   "language": "python",
   "name": "python3"
  },
  "language_info": {
   "codemirror_mode": {
    "name": "ipython",
    "version": 3
   },
   "file_extension": ".py",
   "mimetype": "text/x-python",
   "name": "python",
   "nbconvert_exporter": "python",
   "pygments_lexer": "ipython3",
   "version": "3.6.3"
  }
 },
 "nbformat": 4,
 "nbformat_minor": 2
}
